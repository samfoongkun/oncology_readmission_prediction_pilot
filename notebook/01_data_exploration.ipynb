{
 "cells": [
  {
   "cell_type": "markdown",
   "id": "64920c4a",
   "metadata": {},
   "source": [
    "# Cancer patient readmission model training\n",
    "This notebook develops and evaluates machine learning models for predicting **unplanned 30-day emergency readmissions after chemotherapy** among oncology inpatients.\n",
    "\n",
    "## Data:  \n",
    "- Source: De-identified EHR data from cancer inpatients \n",
    "- 18 months cancer patient EHR\n",
    "- Training set / Test set : 0.8/0.2\n",
    "- Positive cases: ~0.4% (extremely imbalanced dataset)  \n",
    "\n",
    "## Model:\n",
    "Baseline：Logistic regression, class_weight=\"balanced\",solver=\"liblinear\", penalty=\"l2\"\\\n",
    "Tree-based：XGBoost scale_pos_weight = neg/pos，max depth = 4,  XGBoost Temp scaling\n",
    "\n",
    "## Both models are evaluated using evaluation metrics: \n",
    "| Metric | Meaning |\n",
    "|--------|----------|\n",
    "| **AUROC** | Overall discrimination between readmission vs non-readmission |\n",
    "| **AUPRC** | Precision–recall balance under extreme imbalance |\n",
    "| **Brier Score** | Probability calibration quality |\n",
    "| **Top-k** | Screening efficiency under limited intervention capacity |\n",
    "\n",
    "## Features:\n",
    "\n",
    "| Category | Variables | Description |\n",
    "|-----------|------------|-------------|\n",
    "| **Demographics** | `In_city`, `Gender`, `Occupation` | Basic patient info |\n",
    "| **Hospitalization Info** | `Fee`, `Inhospital_days`, `Diagnose` | Admission-level data |\n",
    "| **Cancer Type (ICD-10)** | `'C11','C16','C18','C20','C22','C23','C24','C25','C34','C50','C56','C61','C64','C67','C71','C79','C82','C83','C85','C90','C92','D46'` | Major solid and hematologic malignancies |\n",
    "| **Surgery** | `Is_surgery`, `Class4_surgery` *(highest difficulty)*, `Surgery_complication` | Indicates surgical treatment complexity |\n",
    "| **Treatment Intensity** | `RT_under_96h`, `RT_over_96h`, `ECMO`, `CRRT` | Acute or critical care indicators |\n",
    "| **Within 72h before discharge** | `Ascites_72h`, `Fever_72h`, `Positive_bacteria_72h` | Short-term clinical deterioration features |\n"
   ]
  },
  {
   "cell_type": "markdown",
   "id": "721e4ca3",
   "metadata": {},
   "source": [
    "## Import the libraries"
   ]
  },
  {
   "cell_type": "code",
   "execution_count": 1,
   "id": "a2e02860",
   "metadata": {},
   "outputs": [],
   "source": [
    "import pandas as pd\n",
    "import numpy as np\n",
    "import yaml\n",
    "import os\n",
    "import data_cleaning_func as dcf\n",
    "import re"
   ]
  },
  {
   "cell_type": "markdown",
   "id": "f6ff577f",
   "metadata": {},
   "source": [
    "## Identify readmission patients"
   ]
  },
  {
   "cell_type": "code",
   "execution_count": null,
   "id": "ed56c6d0",
   "metadata": {},
   "outputs": [],
   "source": [
    "CFG = yaml.safe_load(open('xxx.yaml','r',encoding='utf-8'))\n",
    "def get_readmission_patients(df, cancer_codes, days_threshold=30, cfg = CFG, emergency = 'all'):\n",
    "    \"\"\"\n",
    "    Identify patients who were readmitted within time limits after chemotherapy.\n",
    "    This function does NOT filter for chemotherapy procedure. Use orders to filter chemotherapy visit_sn.\n",
    "    Args:\n",
    "        df (pd.DataFrame): DataFrame containing patient admission data.\n",
    "        cancer_codes (list): ICD-10 code of cancer included.\n",
    "        days_threshold (int): Number of days to consider for readmission.\n",
    "        emergency (str): Code indicating emergency readmission. all for all, Y for emergency only, N for non-emergency only.\n",
    "    Returns:\n",
    "        (readmit_visit_sn,first_admit_visit_sn) (tuple): Tuple of two lists. \n",
    "        readmit_patient is visit_sn readmitted within the threshold after chemotherapy.\n",
    "        first_admit_visit_sn is visit_sn of the first admission.\n",
    "    \"\"\"\n",
    "    ## Convert date columns to datetime\n",
    "    print(f'Getting readmission patients with cancer-code{cancer_codes}')\n",
    "    df['B12'] = pd.to_datetime(df['B12'], errors='coerce')\n",
    "    df['B15'] = pd.to_datetime(df['B15'], errors='coerce')\n",
    "    if df['B12'].isna().sum() > 0:\n",
    "        print(\"Date type conversion error in B12:\")\n",
    "        print(df[df['B12'].isna()][['patient_id','visit_sn','B12']])\n",
    "    else:\n",
    "        if df['B15'].isna().sum() > 0:\n",
    "            print(\"date type conversion error in B15:\")\n",
    "            print(df[df['B15'].isna()][['patient_id','visit_sn','B15']])\n",
    "        else:\n",
    "            print(\"Date type conversion successful!\")\n",
    "    # df = df[['visit_sn','patient_id','B12','B15','B11C','C03C']].copy() # check the list, which colmn to keep\n",
    "\n",
    "    ## calculate next visit date to identify readmission\n",
    "    df = df.sort_values(by=['patient_id','B12'])\n",
    "    df['next_admit_date'] = df.groupby('patient_id')['B12'].shift(-1)\n",
    "    # df['next_admit_type'] = df.groupby('patient_id')['B11C'].shift(-1)\n",
    "    df['next_visit_sn'] = df.groupby('patient_id')['visit_sn'].shift(-1)\n",
    "    df = df[df['next_admit_date'].notna()]\n",
    "    df['days_to_next_admit'] = df['next_admit_date'] - df['B15']\n",
    "    df = df[df['days_to_next_admit'].dt.days < days_threshold]\n",
    "    # df = df[df['C03C'].str.contains('|'.join(cancer_codes))] # filter cancer diagnosis\n",
    "    if emergency == 'all':\n",
    "        print(f'Total readmission patients in {days_threshold} days with cancer diag: {df[\"patient_id\"].nunique()}\\nTotal readmission visits in {days_threshold} days with cancer diag: {df[\"visit_sn\"].nunique()}\\n')\n",
    "    elif emergency == 'Y':\n",
    "        df = df[df['next_admit_type'] == '1']\n",
    "        print(f'Total readmission EMERGENCY patients in {days_threshold} days with cancer diag: {df[\"patient_id\"].nunique()}\\nTotal readmission EMERGENCY visit in {days_threshold} days with cancer diag: {df[\"visit_sn\"].nunique()}\\n')\n",
    "    elif emergency == 'N':\n",
    "        df = df[df['next_admit_type'] != '1']\n",
    "        print(f'Total readmission NON-EMERGENCY patients in {days_threshold} days with cancer diag: {df[\"patient_id\"].nunique()}\\nTotal readmission NON-EMERGENCY visits in {days_threshold} days with cancer diag: {df[\"visit_sn\"].nunique()}\\n')\n",
    "    readmit_visit_sn_list = df['next_visit_sn'].unique().tolist()\n",
    "    first_admit_patient_list = df['visit_sn'].unique().tolist()\n",
    "    return list(zip(readmit_visit_sn_list, first_admit_patient_list)), readmit_visit_sn_list, first_admit_patient_list\n",
    "    "
   ]
  },
  {
   "cell_type": "markdown",
   "id": "aa917300",
   "metadata": {},
   "source": [
    "## Get the patients in the first 4 months to check readmission rate and choosing positive samples"
   ]
  },
  {
   "cell_type": "code",
   "execution_count": null,
   "id": "ddcf7e7e",
   "metadata": {},
   "outputs": [],
   "source": [
    "facesheet_202401 = pd.read_excel('.../facesheet.xlsx')\n",
    "facesheet_202402 = pd.read_excel('.../facesheet.xlsx')\n",
    "facesheet_202403 = pd.read_excel('.../facesheet.xlsx')\n",
    "facesheet_202404 = pd.read_excel('.../facesheet.xlsx')\n",
    "facesheet_202401to202404 = pd.concat([facesheet_202401,facesheet_202402,facesheet_202403,facesheet_202404])"
   ]
  },
  {
   "cell_type": "code",
   "execution_count": null,
   "id": "a73e324a",
   "metadata": {},
   "outputs": [],
   "source": [
    "lung_cancer_code = []\n",
    "tuple_30,list_30,list_30_firsttime = get_readmission_patients(facesheet_202401to202404,lung_cancer_code)\n",
    "tuple_15,list_15,list_15_firsttime = get_readmission_patients(facesheet_202401to202404,lung_cancer_code, days_threshold=15)\n",
    "tuple_7,list_7,list_7_firsttime = get_readmission_patients(facesheet_202401to202404,lung_cancer_code, days_threshold=7)\n",
    "list_emer = get_readmission_patients(facesheet_202401to202404,lung_cancer_code,emergency='Y')\n",
    "print(list_30)"
   ]
  },
  {
   "cell_type": "code",
   "execution_count": null,
   "id": "0568e003",
   "metadata": {},
   "outputs": [],
   "source": [
    "## Save the readmit patient list in order to check their diag\n",
    "df15 = pd.DataFrame(list_15, columns=['visit_sn'])\n",
    "cancer15 = facesheet_202401to202404[facesheet_202401to202404.visit_sn.isin(df15.visit_sn)]\n",
    "cancer15.to_excel('xxx.xlsx', index=False)\n",
    "df30 = pd.DataFrame(list_30, columns=['visit_sn'])\n",
    "cancer30 = facesheet_202401to202404[facesheet_202401to202404.visit_sn.isin(df30.visit_sn)]\n",
    "cancer30.to_excel('xxx.xlsx', index=False)"
   ]
  },
  {
   "cell_type": "markdown",
   "id": "aa0f0eba",
   "metadata": {},
   "source": [
    "### Get the chemo patient list and filter the readmit patient list"
   ]
  },
  {
   "cell_type": "code",
   "execution_count": null,
   "id": "3e3dd5e3",
   "metadata": {},
   "outputs": [],
   "source": [
    "drg = pd.read_excel('.../2024DRG.xlsx')\n",
    "temp_drg =pd.read_excel('.../2025DRG.xlsx')\n",
    "drg = pd.concat([drg,temp_drg])\n",
    "drg['WR'] = pd.to_numeric(drg['WR'], errors='coerce')  \n",
    "drg = drg.sort_values(by ='WR', ascending=False)\n"
   ]
  },
  {
   "cell_type": "code",
   "execution_count": null,
   "id": "519b22d3",
   "metadata": {},
   "outputs": [],
   "source": [
    "info_202401 = pd.read_excel('.../basic_info.xlsx')\n",
    "info_202402 = pd.read_excel('.../basic_info.xlsx')\n",
    "info_202403 = pd.read_excel('.../basic_info.xlsx')\n",
    "info_202404 = pd.read_excel('.../basic_info.xlsx')\n",
    "info_202401to202404 = pd.concat([info_202401,info_202402,info_202403,info_202404])"
   ]
  },
  {
   "cell_type": "code",
   "execution_count": null,
   "id": "3c98844e",
   "metadata": {},
   "outputs": [],
   "source": [
    "chemo_drg = drg[drg['all_surgery_concat'].str.contains('化疗')]\n",
    "chemo_202401to202404 = info_202401to202404[info_202401to202404.medical_record_no.isin(chemo_drg.medical_record_no)]\n",
    "chemo_visit_sn_202401to202404 = chemo_202401to202404['visit_sn']\n",
    "\n",
    "list_chemo_30_firsttime = pd.Series(list_30_firsttime)[pd.Series(list_30_firsttime).isin(chemo_visit_sn_202401to202404)]\n",
    "list_chemo_30_firsttime = [str(x).split('.')[0] for x in list_chemo_30_firsttime.tolist()]\n",
    "list_chemo_30_firsttime = [int(x) for x in list_chemo_30_firsttime]\n",
    "print(\"list_chemo_30_firsttime =\", len(list_chemo_30_firsttime))\n",
    "print(list_chemo_30_firsttime[:5])\n",
    "\n",
    "first_readmit_dict = {k:v for v,k in tuple_30} # dict: first admit visit_sn as key, readmit visit_sn as value\n",
    "list_chemo_30_readmit = [first_readmit_dict[x] for x in list_chemo_30_firsttime]\n",
    "list_chemo_30_readmit = [str(x).split('.')[0] for x in list_chemo_30_readmit]\n",
    "list_chemo_30_readmit = [int(x) for x in list_chemo_30_readmit]\n",
    "print(\"list_chemo_30_readmit =\", len(list_chemo_30_readmit))\n",
    "print(list_chemo_30_readmit[:5])\n",
    "\n",
    "facesheet_chemo_30_readmit = facesheet_202401to202404[facesheet_202401to202404['visit_sn'].isin(list_chemo_30_readmit)]\n",
    "print('cancer 30 with chemo shape =', facesheet_chemo_30_readmit.shape)\n"
   ]
  },
  {
   "cell_type": "markdown",
   "id": "9c254a3d",
   "metadata": {},
   "source": [
    "### Find the patient without chemotherapy"
   ]
  },
  {
   "cell_type": "code",
   "execution_count": null,
   "id": "dea3a0a3",
   "metadata": {},
   "outputs": [],
   "source": [
    "no_chemo_drg = drg[~drg['all_surgery_concat'].str.contains('化疗')]\n",
    "no_chemo_202401to202404 = info_202401to202404[info_202401to202404['medical_record_no'].isin(no_chemo_drg['medical_record_no'])]\n",
    "print('no chemo patient shape =', no_chemo_202401to202404.shape)\n",
    "list_chemo_30_readmitwithoutchemo = [x for x in list_chemo_30_readmit if x not in no_chemo_202401to202404['visit_sn'].values]\n",
    "print('list_chemo_30_readmitwithoutchemo =', len(list_chemo_30_readmitwithoutchemo))\n",
    "master_chemo_30_readmitwithoutchemo = facesheet_202401to202404[facesheet_202401to202404['visit_sn'].isin(list_chemo_30_readmitwithoutchemo)]\n",
    "master_chemo_30_readmitwithoutchemo.to_excel('xxx.xlsx', index=False)"
   ]
  },
  {
   "cell_type": "markdown",
   "id": "9a58f988",
   "metadata": {},
   "source": [
    "### Find the patient with emergency readmission"
   ]
  },
  {
   "cell_type": "code",
   "execution_count": null,
   "id": "21b2bcbc",
   "metadata": {},
   "outputs": [],
   "source": [
    "emer_drg = drg[drg['inpatient_type']=='急诊']\n",
    "emer_drg = pd.merge(emer_drg, info_202401to202404[['patient_id','medical_record_no','visit_sn']], on='medical_record_no', how='inner')\n",
    "print(emer_drg.head(5))\n",
    "print(emer_drg.shape)\n",
    "emer_drg_readmit = pd.merge(emer_drg, pd.DataFrame(list_30, columns=['visit_sn']), on='visit_sn', how='inner')\n",
    "print('emer_drg_readmit shape =', emer_drg_readmit.shape)\n",
    "print(emer_drg_readmit)"
   ]
  },
  {
   "cell_type": "markdown",
   "id": "145e2f06",
   "metadata": {},
   "source": [
    "### Find the readmission with chemo"
   ]
  },
  {
   "cell_type": "code",
   "execution_count": null,
   "id": "c461ac76",
   "metadata": {},
   "outputs": [],
   "source": [
    "list_chemo_15_firsttime = pd.Series(list_15_firsttime)[pd.Series(list_15_firsttime).isin(chemo_visit_sn_202401to202404)]\n",
    "list_chemo_15_firsttime = [str(x).split('.')[0] for x in list_chemo_15_firsttime.tolist()]\n",
    "list_chemo_15_firsttime = [int(x) for x in list_chemo_15_firsttime]\n",
    "print(\"list_chemo_15_firsttime =\", len(list_chemo_15_firsttime))\n",
    "print(list_chemo_15_firsttime[:5])\n",
    "\n",
    "first_readmit_dict = {k:v for v,k in tuple_30} \n",
    "list_chemo_15_readmit = [first_readmit_dict[x] for x in list_chemo_15_firsttime]\n",
    "list_chemo_15_readmit = [str(x).split('.')[0] for x in list_chemo_15_readmit]\n",
    "list_chemo_15_readmit = [int(x) for x in list_chemo_15_readmit]\n",
    "print(\"list_chemo_15_readmit =\", len(list_chemo_15_readmit))\n",
    "print(list_chemo_15_readmit[:5])\n",
    "\n",
    "master_chemo_15_readmit = facesheet_202401to202404[facesheet_202401to202404['visit_sn'].isin(list_chemo_15_readmit)]\n",
    "print('cancer 15 with chemo shape =', master_chemo_15_readmit.shape)\n",
    "master_chemo_15_readmit.to_excel('xxx.xlsx', index=False)"
   ]
  },
  {
   "cell_type": "code",
   "execution_count": null,
   "id": "6ac250c0",
   "metadata": {},
   "outputs": [],
   "source": [
    "drg_202401to202404 = pd.merge(drg, info_202401to202404[['patient_id','medical_record_no','visit_sn']], on='medical_record_no', how='inner')\n",
    "drg_202401to202404.head(5)\n",
    "drg_tuple_readmit_30,drg_list_readmit_30,drg_list_readmit_30_firsttime = get_readmission_patients(drg_202401to202404,lung_cancer_code,days_threshold=30)\n",
    "\n",
    "emer_drg = drg[drg['inpatient_type']=='急诊']\n",
    "emer_drg = pd.merge(emer_drg, info_202401to202404[['patient_id','medical_record_no','visit_sn']], on='medical_record_no', how='inner')\n",
    "unplan_drg = drg[drg['unplaned'] == '是']\n",
    "unplan_drg = pd.merge(unplan_drg, info_202401to202404[['patient_id','medical_record_no','visit_sn']], on='medical_record_no', how='inner')\n",
    "emer_and_unplan_drg = pd.concat([emer_drg, unplan_drg]).drop_duplicates()\n",
    "\n",
    "temp_emer_drg_readmit = pd.merge(emer_drg, pd.DataFrame(drg_list_readmit_30, columns=['visit_sn']), on='visit_sn', how='inner')\n",
    "print('emer readmit,', temp_emer_drg_readmit.shape)\n",
    "\n",
    "emer_and_unplan_drg_readmit = pd.merge(emer_and_unplan_drg, pd.DataFrame(drg_list_readmit_30, columns=['visit_sn']), on='visit_sn', how='inner')\n",
    "print('emer + unplanned readmit,', emer_and_unplan_drg_readmit.shape)\n"
   ]
  },
  {
   "cell_type": "markdown",
   "id": "a05908ae",
   "metadata": {},
   "source": [
    "### Summary in choosing positive samples\n",
    "- There is too little sample when only using the emergency readmission (21 readmission in 4 months). \n",
    "- When using readmission with chemo therapy, sample size is enough (241 readmission in 4 months) but cannot distinguish planned chemo therapy which sometimes have a 7 days or 15 days interval depending on the plan. \n",
    "- Combining emergency readmission with unplanned inpatient (categorized in DRG system), sample size is moderate (112 readmission in 4 months) while ensuring the qualiity of those positive samples. \\\n",
    "Thus choose emergency + unplanned as positive sample\n"
   ]
  }
 ],
 "metadata": {
  "kernelspec": {
   "display_name": "arm_env",
   "language": "python",
   "name": "python3"
  },
  "language_info": {
   "codemirror_mode": {
    "name": "ipython",
    "version": 3
   },
   "file_extension": ".py",
   "mimetype": "text/x-python",
   "name": "python",
   "nbconvert_exporter": "python",
   "pygments_lexer": "ipython3",
   "version": "3.10.18"
  }
 },
 "nbformat": 4,
 "nbformat_minor": 5
}
