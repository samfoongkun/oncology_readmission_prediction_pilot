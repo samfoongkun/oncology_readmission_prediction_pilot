{
 "cells": [
  {
   "cell_type": "markdown",
   "id": "fcc66c68",
   "metadata": {},
   "source": [
    "# Cancer patient readmission model training\n",
    "This notebook develops and evaluates machine learning models for predicting **unplanned 30-day emergency readmissions after chemotherapy** among oncology inpatients.\n",
    "\n",
    "## Data:  \n",
    "- Source: De-identified EHR data from cancer inpatients \n",
    "- 18 months cancer patient EHR\n",
    "- Training set / Test set : 0.8/0.2\n",
    "- Positive cases: ~0.4% (extremely imbalanced dataset)  \n",
    "\n",
    "## Model:\n",
    "Baseline：Logistic regression, class_weight=\"balanced\",solver=\"liblinear\", penalty=\"l2\"\\\n",
    "Tree-based：XGBoost scale_pos_weight = neg/pos，max depth = 4,  XGBoost Temp scaling\n",
    "Both models are evaluated using:\n",
    "\n",
    "##  Evaluation Metrics\n",
    "| Metric | Meaning |\n",
    "|--------|----------|\n",
    "| **AUROC** | Overall discrimination between readmission vs non-readmission |\n",
    "| **AUPRC** | Precision–recall balance under extreme imbalance |\n",
    "| **Brier Score** | Probability calibration quality |\n",
    "| **Top-k** | Screening efficiency under limited intervention capacity |\n",
    "\n",
    "## Features:\n",
    "\n",
    "| Category | Variables | Description |\n",
    "|-----------|------------|-------------|\n",
    "| **Demographics** | `In_city`, `Gender`, `Occupation` | Basic patient info |\n",
    "| **Hospitalization Info** | `Fee`, `Inhospital_days`, `Diagnose` | Admission-level data |\n",
    "| **Cancer Type (ICD-10)** | `'C11','C16','C18','C20','C22','C23','C24','C25','C34','C50','C56','C61','C64','C67','C71','C79','C82','C83','C85','C90','C92','D46'` | Major solid and hematologic malignancies |\n",
    "| **Surgery** | `Is_surgery`, `Class4_surgery` *(highest difficulty)*, `Surgery_complication` | Indicates surgical treatment complexity |\n",
    "| **Treatment Intensity** | `RT_under_96h`, `RT_over_96h`, `ECMO`, `CRRT` | Acute or critical care indicators |\n",
    "| **Within 72h before discharge** | `Ascites_72h`, `Fever_72h`, `Positive_bacteria_72h` | Short-term clinical deterioration features |\n"
   ]
  },
  {
   "cell_type": "code",
   "execution_count": 3,
   "id": "67bb30b2",
   "metadata": {},
   "outputs": [],
   "source": [
    "import os\n",
    "os.chdir(\"..\")"
   ]
  },
  {
   "cell_type": "code",
   "execution_count": 4,
   "id": "88549ce2",
   "metadata": {},
   "outputs": [],
   "source": [
    "import pandas as pd\n",
    "import numpy as np\n",
    "import yaml\n",
    "import src.data_cleaning_func as dcf\n",
    "import re"
   ]
  },
  {
   "cell_type": "markdown",
   "id": "01eb7c32",
   "metadata": {},
   "source": [
    "## Construct dataframe for analysis "
   ]
  },
  {
   "cell_type": "markdown",
   "id": "b0c04a61",
   "metadata": {},
   "source": [
    "### Read the files"
   ]
  },
  {
   "cell_type": "code",
   "execution_count": 7,
   "id": "7345dd35",
   "metadata": {},
   "outputs": [],
   "source": [
    "## Args needed for file construction\n",
    "MON = 18\n",
    "DISKDIR = '/Users/lajikf/Desktop/Python/Projectone/data/raw'\n",
    "FLASHDRIVE = '/Volumes/FENG/Projectone'\n",
    "CACHEDIR = '/Users/lajikf/Desktop/Python/Projectone/data/cache'\n",
    "\n",
    "TIMEFRAME = []\n",
    "for year in [2024,2025]:\n",
    "    for month in range(12):\n",
    "        if month < 9:\n",
    "            TIMEFRAME.append(str(year)+'0'+str(month+1))\n",
    "        else:\n",
    "            TIMEFRAME.append(str(year)+str(month+1))\n",
    "TIMEFRAME = TIMEFRAME[:MON]\n"
   ]
  },
  {
   "cell_type": "code",
   "execution_count": null,
   "id": "a1082ff5",
   "metadata": {},
   "outputs": [],
   "source": [
    "## Construct facesheet dataframe\n",
    "facesheet = dcf.read_concat(TIMEFRAME,DISKDIR,'face_sheet.xlsx',None)\n",
    "facesheet.reset_index(drop=True, inplace=True)\n",
    "facesheet.to_feather(CACHEDIR + '/facesheet.feather')"
   ]
  },
  {
   "cell_type": "code",
   "execution_count": null,
   "id": "9a09570c",
   "metadata": {},
   "outputs": [],
   "source": [
    "## Construct the info dataframe\n",
    "info = dcf.read_concat(TIMEFRAME,FLASHDRIVE,'info.xlsx',None)\n",
    "info.reset_index(drop=True, inplace=True)\n",
    "info.to_feather(CACHEDIR + '/info.feather')"
   ]
  },
  {
   "cell_type": "code",
   "execution_count": null,
   "id": "332308d6",
   "metadata": {},
   "outputs": [],
   "source": [
    "## Construct the DRG dataframe\n",
    "drg = pd.read_excel('/Users/lajikf/Desktop/Python/Projectone/data/raw/2024DRG.xlsx')\n",
    "temp_drg =pd.read_excel('/Users/lajikf/Desktop/Python/Projectone/data/raw/2025DRG.xlsx')\n",
    "drg = pd.concat([drg,temp_drg])\n",
    "del temp_drg\n",
    "drg['WR'] = pd.to_numeric(drg['WR'], errors='coerce')  # 把无法转为数字的值变为 NaN\n",
    "drg = drg.sort_values(by ='WR', ascending=False)\n",
    "drg.reset_index(drop=True, inplace=True)\n",
    "drg.drop_duplicates(subset = ['medical_record_no'], keep='first', inplace=True)\n",
    "drg = pd.merge(info[['patient_id','medical_record_no','visit_sn']],drg , on='medical_record_no', how='inner')\n",
    "drg[['B12']] = drg[['B12']].apply(pd.to_datetime, errors='coerce')\n",
    "drg[['B15']] = drg[['B15']].apply(pd.to_datetime, errors='coerce')\n",
    "drg[['surgery_date']] = drg[['surgery_date']].apply(pd.to_datetime, errors='coerce')\n",
    "drg['inhospital_days'] = (drg['B15'] - drg['B12']).dt.days\n",
    "drg.to_feather(CACHEDIR + '/drg.feather')\n",
    "\n",
    "## emer_and_unplan_and_transaction_drg\n",
    "emer_drg = drg[drg['inpatient_type']=='急诊']\n",
    "unplan_drg = drg[drg['unplaned'] == '是']\n",
    "transaction_drg = drg[drg['inpatient_type']=='其他医疗机构转入']\n",
    "emer_and_unplan_drg = pd.concat([emer_drg, unplan_drg]).drop_duplicates()\n",
    "emer_and_unplan_trans_drg = pd.concat([emer_drg,unplan_drg,transaction_drg]).drop_duplicates()"
   ]
  },
  {
   "cell_type": "code",
   "execution_count": null,
   "id": "3d2a51d2",
   "metadata": {},
   "outputs": [],
   "source": [
    "## Construct the medical note dataframe\n",
    "note  = dcf.read_concat(TIMEFRAME,FLASHDRIVE,'note.xlsx',features=None)\n",
    "note.reset_index(drop=True, inplace=True)\n",
    "note['record_datetime'] = note['record_datetime'].apply(pd.to_datetime, errors='coerce')\n",
    "note.to_feather(CACHEDIR + '/note.feather')"
   ]
  },
  {
   "cell_type": "markdown",
   "id": "b3370ccb",
   "metadata": {},
   "source": [
    "### Get the readmit patient"
   ]
  },
  {
   "cell_type": "code",
   "execution_count": null,
   "id": "36358d43",
   "metadata": {},
   "outputs": [],
   "source": [
    "cancer_code = ['C11','C16','C18','C20','C22','C23','C24','C25','C34','C50','C56','C61','C64','C67','C71','C79','C82','C83','C85','C90','C92','D46']\n",
    "tuple_master,readmit_18m,readmit_18m_firsttime = dcf.get_readmission_patients(facesheet,cancer_code, days_threshold=30)\n",
    "emer_and_unplan_drg_readmit_18m = pd.merge(emer_and_unplan_drg, pd.DataFrame(readmit_18m, columns=['visit_sn']), on='visit_sn', how='inner')\n",
    "emer_and_unplan_trans_drg_readmit_18m = pd.merge(emer_and_unplan_trans_drg,pd.DataFrame(readmit_18m, columns=['visit_sn']), on='visit_sn', how='inner')"
   ]
  },
  {
   "cell_type": "markdown",
   "id": "d448d6f4",
   "metadata": {},
   "source": [
    "### Construct analysis dataframe with basic info, DRG, and face sheet"
   ]
  },
  {
   "cell_type": "code",
   "execution_count": null,
   "id": "19cff7a8",
   "metadata": {},
   "outputs": [],
   "source": [
    "analysis_df = pd.DataFrame(facesheet['visit_sn'])\n",
    "analysis_df = analysis_df.drop_duplicates()\n",
    "analysis_df = analysis_df.reset_index(drop=True)\n",
    "analysis_df = pd.merge(analysis_df, info[['patient_id','visit_sn','medical_record_no']], on = 'visit_sn' , how = 'inner')\n",
    "analysis_df['readmit_30d'] = analysis_df['visit_sn'].apply(lambda x: 1 if x in readmit_18m else 0)\n",
    "analysis_df['readmit_30d_emer_unplan'] = analysis_df['visit_sn'].apply(lambda x: 1 if x in emer_and_unplan_drg_readmit_18m['visit_sn'].values else 0)\n",
    "analysis_df['readmit_30d_emer_unplan_trans'] = analysis_df['visit_sn'].apply(lambda x: 1 if x in emer_and_unplan_trans_drg_readmit_18m['visit_sn'].values else 0)\n",
    "analysis_df = pd.merge(analysis_df, drg, on='medical_record_no', how='left', suffixes=('', '_drop'))\n",
    "analysis_df = analysis_df.loc[:, ~analysis_df.columns.str.endswith('_drop')]\n",
    "analysis_df['fee'] = pd.to_numeric(analysis_df['fee'], errors='coerce')\n",
    "analysis_df['in_city'] = analysis_df['in_city'].apply(lambda x: 1 if x == '市内' else 0)\n",
    "analysis_df = pd.merge(analysis_df , info[['visit_sn','gender','occupation_name','date_of_birth']], on='visit_sn', how='left')\n",
    "analysis_df = analysis_df.rename(columns={'B15':'discharge_date'})\n",
    "analysis_df['other_surgery_class4'] = analysis_df['other_surgery_class4'].apply(lambda x: 1 if x == '是' else 0)\n",
    "analysis_df['is_surgery'] = analysis_df['is_surgery'].apply(lambda x: 1 if x == '是' else 0)\n",
    "analysis_df['surgery_complication'] = analysis_df['surgery_complication'].apply(lambda x: 1 if x == '是' else 0)\n",
    "analysis_df = analysis_df.rename(columns={'B12':'admission_date'})\n",
    "analysis_df['RT_under_96h'] = (analysis_df['main_surgery_name'].fillna('').str.contains('呼吸机治疗[小于96',na=False,regex=False)| \n",
    "                               analysis_df['other_surgery_name'].fillna('').str.contains('呼吸机治疗[小于96',na=False,regex=False)).astype(int)\n",
    "analysis_df['RT_over_96h'] = (analysis_df['main_surgery_name'].fillna('').str.contains('呼吸机治疗[大于等于96',na=False,regex=False)| \n",
    "                               analysis_df['other_surgery_name'].fillna('').str.contains('呼吸机治疗[大于等于96',na=False,regex=False)).astype(int)\n",
    "analysis_df = pd.merge(analysis_df,facesheet[['visit_sn','C01C','C03C']],on='visit_sn',how='left',suffixes=('','_drop'))\n",
    "analysis_df = analysis_df.loc[:,~analysis_df.columns.str.endswith(\"_drop\")]\n",
    "analysis_df = analysis_df.rename(columns={'C01C':'admission_diag_code','C03C':'discharge_diag_code'})\n",
    "analysis_df['diag_combine'] = analysis_df['admission_diag_code'].str[0:3] + '-' + analysis_df['discharge_diag_code'].str[0:3]\n",
    "\n",
    "def code_classification(input_code,cancer):\n",
    "    result = 'other'\n",
    "    for code in cancer:\n",
    "        if (input_code[0:3]== code) | (input_code[4:7] == code):\n",
    "            result = code\n",
    "    return result\n",
    "analysis_df['cancer_code'] = analysis_df['diag_combine'].apply(lambda x: code_classification(x,cancer_code))\n",
    "\n",
    "analysis_df['ECMO'] = (analysis_df['main_surgery_name'].fillna('').str.contains('ECMO',na=False,regex=False)| \n",
    "                               analysis_df['other_surgery_name'].fillna('').str.contains('ECMO',na=False,regex=False)).astype(int)\n",
    "analysis_df['CRRT'] = (analysis_df['main_surgery_name'].fillna('').str.contains('CRRT',na=False,regex=False)| \n",
    "                               analysis_df['other_surgery_name'].fillna('').str.contains('CRRT',na=False,regex=False)).astype(int)\n"
   ]
  },
  {
   "cell_type": "code",
   "execution_count": null,
   "id": "1d6715c6",
   "metadata": {},
   "outputs": [],
   "source": [
    "\n",
    "analysis_df[analysis_df['readmit_30d_emer_unplan'] == 1].iloc[5,:]\n",
    "\n",
    "analysis_df.to_feather(CACHEDIR + '/analysis_df.feather')"
   ]
  },
  {
   "cell_type": "markdown",
   "id": "7c79dfb6",
   "metadata": {},
   "source": [
    "### Build a function filtering expressions in medical note\n",
    "\n",
    "Use the function to distinguish ascites, fever, and positive bacterial microbiological cluture"
   ]
  },
  {
   "cell_type": "code",
   "execution_count": null,
   "id": "aeb39939",
   "metadata": {},
   "outputs": [],
   "source": [
    "def note_filter(string, expression, neg_core, window):\n",
    "    \"\"\"\n",
    "    Filter medical notes based on the presence of specific expressions within a defined timeframe around a reference event.\n",
    "    \n",
    "    Args:\n",
    "        string: medical notes\n",
    "        expression (list): List of expressions to search for in the notes.\n",
    "        neg_core (list): List of negation terms to exclude notes containing them.\n",
    "        window (int): Number of charecters before and after the expression to consider.\n",
    "        \n",
    "    Returns:\n",
    "        true or false\n",
    "    \"\"\"\n",
    "\n",
    "    import re\n",
    "    neg_core = [neg.lower() for neg in neg_core]\n",
    "    expression = [exp.lower() for exp in expression]\n",
    "    string = string.lower()\n",
    "    sentences = re.split(r'[，,；;。]', string)  # Split by Chinese punctuation\n",
    "    for sentence in sentences:\n",
    "     # Check each expression\n",
    "        for exp in expression:\n",
    "            if exp in sentence: \n",
    "                has_neg = False\n",
    "                for neg in neg_core:\n",
    "                    pattern = r'(?i)' + re.escape(neg) + r'(.{0,' + str(window) + r'})(' + re.escape(exp) + r')|(' + re.escape(exp) + r')(.{0,' + str(window) + r'})(.{0,' + str(window) + '})(' + re.escape(neg) + r')'\n",
    "                    if re.search(pattern, sentence):\n",
    "                        has_neg = True\n",
    "                        break\n",
    "                if not has_neg:\n",
    "                    return True\n",
    "    return False"
   ]
  },
  {
   "cell_type": "code",
   "execution_count": null,
   "id": "dd6d9b04",
   "metadata": {},
   "outputs": [],
   "source": [
    "note_filter('未腹水，导致黄疸、胸水、凝血功能障碍、低白蛋白血症、肝性脑病等，可能需长期输白蛋白，',['腹水'],['导致','可能','如','好转','未'],10)"
   ]
  },
  {
   "cell_type": "code",
   "execution_count": null,
   "id": "38007c7a",
   "metadata": {},
   "outputs": [],
   "source": [
    "NEG_CORE = ['导致','可能','如','好转','未见','无','没有','常规','未查','排除','未诉']\n",
    "NOTE_TYPE = ['查房记录','阶段小结','接班记录','抢救记录','上级医师查房记录','首次病程记录','首次查房记录','术后记录','危急值处理记录','疑难病例讨论记录']"
   ]
  },
  {
   "cell_type": "code",
   "execution_count": null,
   "id": "a3f2e178",
   "metadata": {},
   "outputs": [],
   "source": [
    "note['腹水'] = note[note['record_title'].isin(NOTE_TYPE)]['record_content'].fillna('').apply(lambda x: note_filter(x,['腹水'],NEG_CORE,10))\n",
    "\n",
    "\n",
    "TEST_NUM = 50\n",
    "TEST_EXP = '腹水'\n",
    "temp = note[note[TEST_EXP]==True][['record_content','record_sn']].iloc[0:TEST_NUM]\n",
    "for x in range(TEST_NUM):\n",
    "     string = temp.iloc[x]['record_content']\n",
    "     sn = temp.iloc[x]['record_sn']\n",
    "     strings = re.split(r'[，,；;。]', string)\n",
    "     for sentence in strings:\n",
    "         if TEST_EXP in sentence:\n",
    "             print('sn:',sn,':',sentence)\n"
   ]
  },
  {
   "cell_type": "code",
   "execution_count": null,
   "id": "05fea892",
   "metadata": {},
   "outputs": [],
   "source": [
    "note['发热'] = note[note['record_title'].isin(NOTE_TYPE)]['record_content'].fillna('').apply(lambda x: note_filter(x,['发热'],NEG_CORE,20))\n",
    "\n",
    "\n",
    "TEST_NUM = 50\n",
    "TEST_EXP = '发热'\n",
    "temp = note[note[TEST_EXP]==True][['record_content','record_sn']].iloc[0:TEST_NUM]\n",
    "for x in range(TEST_NUM):\n",
    "     string = temp.iloc[x]['record_content']\n",
    "     sn = temp.iloc[x]['record_sn']\n",
    "     strings = re.split(r'[，,；;。]', string)\n",
    "     for sentence in strings:\n",
    "         if TEST_EXP in sentence:\n",
    "             print('sn:',sn,':',sentence)"
   ]
  },
  {
   "cell_type": "code",
   "execution_count": null,
   "id": "c04e2d60",
   "metadata": {},
   "outputs": [],
   "source": [
    "note['菌阳性'] = note[note['record_title'] == '危急值处理记录']['record_content'].fillna('').apply(lambda x: note_filter(x,['菌'],NEG_CORE,20))\n",
    "\n",
    "\n",
    "TEST_NUM = 50\n",
    "TEST_EXP = '菌'\n",
    "temp = note[note['菌阳性']==True][['record_content','record_sn']].iloc[0:TEST_NUM]\n",
    "for x in range(TEST_NUM):\n",
    "     string = temp.iloc[x]['record_content']\n",
    "     sn = temp.iloc[x]['record_sn']\n",
    "     strings = re.split(r'[，,；;。]', string)\n",
    "     for sentence in strings:\n",
    "         if TEST_EXP in sentence:\n",
    "             print('sn:',sn,':',sentence)"
   ]
  },
  {
   "cell_type": "code",
   "execution_count": null,
   "id": "00ec9f6d",
   "metadata": {},
   "outputs": [],
   "source": [
    "note = note.rename(columns={'腹水':'ascites','发热':'fever','菌阳性':'positive_bacteria'}) # type: ignore\n",
    "note.to_feather(CACHEDIR + '/note.feather')"
   ]
  },
  {
   "cell_type": "markdown",
   "id": "7ee38d9b",
   "metadata": {},
   "source": [
    "### Combine Ascites, fever, and positive microbiological culture to the analysis dataframe"
   ]
  },
  {
   "cell_type": "code",
   "execution_count": null,
   "id": "b6ca76d3",
   "metadata": {},
   "outputs": [],
   "source": [
    "analysis_df[['ascites_72h','fever_72h','positive_bacteria_72h']] = 0\n",
    "for idx, row in analysis_df.iterrows():\n",
    "    visit_sn = row['visit_sn']\n",
    "    discharge_date = row['discharge_date']\n",
    "    if pd.isna(discharge_date):\n",
    "        continue\n",
    "    start_window = discharge_date - pd.Timedelta(hours=72)\n",
    "    notes_subset = note[(note['visit_sn'] == visit_sn) &  \n",
    "                        (note['record_datetime'] >= start_window)]\n",
    "    analysis_df.at[idx, 'ascites_72h'] = int(notes_subset['ascites'].any())\n",
    "    analysis_df.at[idx, 'fever_72h'] = int(notes_subset['fever'].any())\n",
    "    analysis_df.at[idx, 'positive_bacteria_72h'] = int(notes_subset['positive_bacteria'].any())\n",
    "    if idx % 10000 == 0: # type: ignore\n",
    "        print(f'Processed {idx} records')"
   ]
  },
  {
   "cell_type": "code",
   "execution_count": null,
   "id": "733557e2",
   "metadata": {},
   "outputs": [],
   "source": [
    "analysis_df.to_feather(CACHEDIR + '/analysis_df20251008.feather')"
   ]
  },
  {
   "cell_type": "markdown",
   "id": "da5afdeb",
   "metadata": {},
   "source": [
    "## Modeling"
   ]
  },
  {
   "cell_type": "markdown",
   "id": "3fa608a9",
   "metadata": {},
   "source": [
    "### Data preprocessing"
   ]
  },
  {
   "cell_type": "code",
   "execution_count": 5,
   "id": "925409a3",
   "metadata": {},
   "outputs": [],
   "source": [
    "from sklearn.model_selection import train_test_split\n",
    "from sklearn.preprocessing import OneHotEncoder\n",
    "from sklearn.compose import ColumnTransformer\n",
    "from sklearn.pipeline import Pipeline\n",
    "from sklearn.metrics import roc_auc_score, average_precision_score, brier_score_loss\n",
    "from sklearn.impute import SimpleImputer"
   ]
  },
  {
   "cell_type": "code",
   "execution_count": 8,
   "id": "49fc9050",
   "metadata": {},
   "outputs": [],
   "source": [
    "analysis_df = pd.read_feather(CACHEDIR + '/analysis_df20251008.feather')"
   ]
  },
  {
   "cell_type": "code",
   "execution_count": 9,
   "id": "81a2f018",
   "metadata": {},
   "outputs": [
    {
     "data": {
      "text/plain": [
       "np.int64(559)"
      ]
     },
     "execution_count": 9,
     "metadata": {},
     "output_type": "execute_result"
    }
   ],
   "source": [
    "\n",
    "analysis_df[analysis_df['readmit_30d_emer_unplan'] == 1]['readmit_30d_emer_unplan'].sum()"
   ]
  },
  {
   "cell_type": "code",
   "execution_count": 10,
   "id": "94acdc0c",
   "metadata": {},
   "outputs": [],
   "source": [
    "y = analysis_df['readmit_30d_emer_unplan_trans']\n",
    "x = analysis_df.drop(columns=[\"visit_sn\",\"patient_id\",\"medical_record_no\", \"admission_date\",\"discharge_date\",\"surgery_date\", \"readmit_30d\",\"readmit_30d_emer_unplan\",\"readmit_30d_emer_unplan_trans\",'unplaned','inpatient_type','date_of_birth','main_surgery_name','other_surgery_name','diag_combine'])\n",
    "\n",
    "num_cols = x.select_dtypes(include=['int64', 'float64']).columns.tolist()\n",
    "cat_cols = x.select_dtypes(include=['object']).columns.tolist()\n",
    "\n",
    "num_transformer = Pipeline(steps=[\n",
    "    ('imputer', SimpleImputer(strategy='median'))\n",
    "])\n",
    "cat_transformer = Pipeline(steps=[\n",
    "    ('imputer', SimpleImputer(strategy='most_frequent')),\n",
    "    ('encoder', OneHotEncoder(handle_unknown='ignore'))\n",
    "])\n",
    "preprocessor = ColumnTransformer(transformers=[\n",
    "    ('num', num_transformer, num_cols),\n",
    "    ('cat', cat_transformer, cat_cols)\n",
    "])\n",
    "x_train, x_test, y_train, y_test = train_test_split(x, y, test_size=0.2, stratify=y, random_state=42)\n"
   ]
  },
  {
   "cell_type": "markdown",
   "id": "4ae07bcd",
   "metadata": {},
   "source": [
    "### Logistic Analysis"
   ]
  },
  {
   "cell_type": "code",
   "execution_count": 11,
   "id": "6cb51aa5",
   "metadata": {},
   "outputs": [
    {
     "name": "stdout",
     "output_type": "stream",
     "text": [
      "AUROC: 0.7935183669801905\n",
      "AUPRC: 0.07362698617379786\n",
      "Brier score: 0.016672862361271665\n"
     ]
    }
   ],
   "source": [
    "from sklearn.linear_model import LogisticRegression\n",
    "\n",
    "logit_model = Pipeline(steps=[\n",
    "    (\"preprocess\", preprocessor),\n",
    "    (\"model\", LogisticRegression(max_iter=1000, class_weight=\"balanced\", solver=\"liblinear\", penalty=\"l2\"))\n",
    "])\n",
    "\n",
    "\n",
    "logit_model.fit(x_train, y_train)\n",
    "y_pred_proba = logit_model.predict_proba(x_test)[:,1]\n",
    "\n",
    "print(\"AUROC:\", roc_auc_score(y_test, y_pred_proba))\n",
    "print(\"AUPRC:\", average_precision_score(y_test, y_pred_proba))\n",
    "print(\"Brier score:\", brier_score_loss(y_test, y_pred_proba))"
   ]
  },
  {
   "cell_type": "markdown",
   "id": "826cbf9d",
   "metadata": {},
   "source": [
    "### XGBOOST"
   ]
  },
  {
   "cell_type": "code",
   "execution_count": 12,
   "id": "30c4b26a",
   "metadata": {},
   "outputs": [
    {
     "name": "stdout",
     "output_type": "stream",
     "text": [
      "AUROC: 0.8588428497620492\n",
      "AUPRC: 0.06141837895946893\n",
      "Brier score: 0.08884509428866465\n"
     ]
    }
   ],
   "source": [
    "from xgboost import XGBClassifier\n",
    "\n",
    "xgb_model = Pipeline(steps=[\n",
    "    (\"preprocess\", preprocessor),\n",
    "    (\"model\", XGBClassifier(\n",
    "        n_estimators=300,\n",
    "        learning_rate=0.05,\n",
    "        max_depth=4,\n",
    "        min_child_weight=10,\n",
    "        subsample=0.8,\n",
    "        colsample_bytree=0.8,\n",
    "        scale_pos_weight = (y==0).sum() / (y==1).sum(),  # unbalanced adjustment\n",
    "        eval_metric=\"aucpr\",\n",
    "        tree_method=\"hist\",\n",
    "        n_jobs=-1,\n",
    "        random_state=42\n",
    "    ))\n",
    "])\n",
    "\n",
    "xgb_model.fit(x_train, y_train)\n",
    "y_pred_proba = xgb_model.predict_proba(x_test)[:,1]\n",
    "\n",
    "print(\"AUROC:\", roc_auc_score(y_test, y_pred_proba))\n",
    "print(\"AUPRC:\", average_precision_score(y_test, y_pred_proba))\n",
    "print(\"Brier score:\", brier_score_loss(y_test, y_pred_proba))"
   ]
  },
  {
   "cell_type": "markdown",
   "id": "3ed1eb13",
   "metadata": {},
   "source": [
    "### XGBoost Temp scaling"
   ]
  },
  {
   "cell_type": "code",
   "execution_count": 13,
   "id": "d3882d1e",
   "metadata": {},
   "outputs": [
    {
     "name": "stdout",
     "output_type": "stream",
     "text": [
      "Calibrated Brier: 0.004018197167676583\n"
     ]
    }
   ],
   "source": [
    "from sklearn.calibration import CalibratedClassifierCV\n",
    "calibrated_xgb = CalibratedClassifierCV(xgb_model.named_steps[\"model\"], cv=5, method=\"sigmoid\")\n",
    "calibrated_xgb.fit(xgb_model.named_steps[\"preprocess\"].transform(x_train), y_train)\n",
    "\n",
    "y_pred_proba_cal = calibrated_xgb.predict_proba(xgb_model.named_steps[\"preprocess\"].transform(x_test))[:,1]\n",
    "print(\"Calibrated Brier:\", brier_score_loss(y_test, y_pred_proba_cal))"
   ]
  },
  {
   "cell_type": "markdown",
   "id": "f446525c",
   "metadata": {},
   "source": [
    "### topk metric"
   ]
  },
  {
   "cell_type": "code",
   "execution_count": 14,
   "id": "262a8e9a",
   "metadata": {},
   "outputs": [],
   "source": [
    "import numpy as np\n",
    "\n",
    "K = [0.01, 0.03, 0.05, 0.075, 0.1]\n",
    "\n",
    "def topk_metrics(y_true, y_prob, k=K):\n",
    "    n = len(y_true)\n",
    "    order = np.argsort(y_prob)[::-1]\n",
    "    results = {}\n",
    "    for rate in k:\n",
    "        top_n = int(rate * n)\n",
    "        idx = order[:top_n]\n",
    "        recall = y_true.iloc[idx].sum() / y_true.sum()\n",
    "        ppv = y_true.iloc[idx].sum() / top_n\n",
    "        results[rate] = {'Recall': recall, 'Precision': ppv}\n",
    "    return results"
   ]
  },
  {
   "cell_type": "code",
   "execution_count": 15,
   "id": "76fa3279",
   "metadata": {},
   "outputs": [
    {
     "name": "stdout",
     "output_type": "stream",
     "text": [
      "xgb result:{0.01: {'Recall': np.float64(0.23684210526315788), 'Precision': np.float64(0.09854014598540146)}, 0.03: {'Recall': np.float64(0.3684210526315789), 'Precision': np.float64(0.05103280680437424)}, 0.05: {'Recall': np.float64(0.47368421052631576), 'Precision': np.float64(0.03935860058309038)}, 0.075: {'Recall': np.float64(0.5175438596491229), 'Precision': np.float64(0.028668610301263362)}, 0.1: {'Recall': np.float64(0.5877192982456141), 'Precision': np.float64(0.024416909620991252)}}\n",
      "logit result:{0.01: {'Recall': np.float64(0.2631578947368421), 'Precision': np.float64(0.10948905109489052)}, 0.03: {'Recall': np.float64(0.3508771929824561), 'Precision': np.float64(0.04860267314702309)}, 0.05: {'Recall': np.float64(0.40350877192982454), 'Precision': np.float64(0.033527696793002916)}, 0.075: {'Recall': np.float64(0.4473684210526316), 'Precision': np.float64(0.02478134110787172)}, 0.1: {'Recall': np.float64(0.5087719298245614), 'Precision': np.float64(0.021137026239067054)}}\n"
     ]
    }
   ],
   "source": [
    "y_pred_proba_xgb = xgb_model.predict_proba(x_test)[:, 1]\n",
    "results_xgb = topk_metrics(y_test, y_pred_proba_xgb, k=K)\n",
    "print(f'xgb result:{results_xgb}')\n",
    "\n",
    "y_pred_proba_logit = logit_model.predict_proba(x_test)[:, 1]\n",
    "results_logit = topk_metrics(y_test, y_pred_proba_logit, k=K)\n",
    "print(f'logit result:{results_logit}')"
   ]
  },
  {
   "cell_type": "code",
   "execution_count": 16,
   "id": "daaafa24",
   "metadata": {},
   "outputs": [
    {
     "data": {
      "image/png": "[encoded data removed]",
      "text/plain": [
       "<Figure size 600x400 with 1 Axes>"
      ]
     },
     "metadata": {},
     "output_type": "display_data"
    }
   ],
   "source": [
    "import matplotlib.pyplot as plt\n",
    "\n",
    "k_vals = [round(k*100) for k in results_xgb.keys()]\n",
    "recalls_xgb = [v['Recall'] for v in results_xgb.values()]\n",
    "precisions_xgb = [v['Precision'] for v in results_xgb.values()]\n",
    "recalls_logit = [v['Recall'] for v in results_logit.values()]\n",
    "precisions_logit = [v['Precision'] for v in results_logit.values()]\n",
    "\n",
    "plt.figure(figsize=(6,4))\n",
    "plt.plot(k_vals, recalls_xgb, marker='o',linestyle='-', label='Recall-XGB')\n",
    "plt.plot(k_vals, precisions_xgb, marker='s', linestyle='-',label='Precision-XGB')\n",
    "plt.plot(k_vals, recalls_logit, marker='s',linestyle=':', label='Recall-logit')\n",
    "plt.plot(k_vals, precisions_logit, marker='s', linestyle=':',label='Precision-logit')\n",
    "plt.xlabel(\"Top-k (%)\")\n",
    "plt.ylabel(\"Metric Value\")\n",
    "plt.title(\"Top-k Recall & Precision (XGBoost)\")\n",
    "plt.legend()\n",
    "plt.grid(True)\n",
    "plt.show()"
   ]
  }
 ],
 "metadata": {
  "kernelspec": {
   "display_name": "arm_env",
   "language": "python",
   "name": "python3"
  },
  "language_info": {
   "codemirror_mode": {
    "name": "ipython",
    "version": 3
   },
   "file_extension": ".py",
   "mimetype": "text/x-python",
   "name": "python",
   "nbconvert_exporter": "python",
   "pygments_lexer": "ipython3",
   "version": "3.10.18"
  }
 },
 "nbformat": 4,
 "nbformat_minor": 5
}
